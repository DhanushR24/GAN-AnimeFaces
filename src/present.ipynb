{
 "cells": [
  {
   "cell_type": "markdown",
   "id": "77473f5c-4862-47e4-91c2-78722a0ca83f",
   "metadata": {
    "tags": []
   },
   "source": [
    "# ML Mini project\n",
    "> ## Using DCGAN to Generate Anime faces\n",
    "\n",
    "![](../output.gif)\n",
    "\n",
    "``` markdown\n",
    "Project by\n",
    "* Dhanush Raj (4NM19CS058)\n",
    "* Edric Oscar DSilva (4NM19CS063)\n",
    "```"
   ]
  },
  {
   "cell_type": "markdown",
   "id": "98c0395e-e575-4d75-b6b9-7f711bf88525",
   "metadata": {},
   "source": [
    "## Dataset\n",
    "``` latex\n",
    "    Anime Faces\n",
    "    - 25663 images\n",
    "    - 128 x 128 \n",
    "```"
   ]
  },
  {
   "cell_type": "code",
   "execution_count": null,
   "id": "9c93166d-164c-4f71-a0ac-a8751f53947a",
   "metadata": {},
   "outputs": [],
   "source": []
  }
 ],
 "metadata": {
  "kernelspec": {
   "display_name": "Python 3 (ipykernel)",
   "language": "python",
   "name": "python3"
  },
  "language_info": {
   "codemirror_mode": {
    "name": "ipython",
    "version": 3
   },
   "file_extension": ".py",
   "mimetype": "text/x-python",
   "name": "python",
   "nbconvert_exporter": "python",
   "pygments_lexer": "ipython3",
   "version": "3.10.2"
  }
 },
 "nbformat": 4,
 "nbformat_minor": 5
}
