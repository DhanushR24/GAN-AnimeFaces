{
 "cells": [
  {
   "cell_type": "markdown",
   "id": "6d283e2c-06e6-4e78-9f1e-d8ba4eed6066",
   "metadata": {
    "jp-MarkdownHeadingCollapsed": true,
    "tags": []
   },
   "source": [
    "### GAN\n",
    "\n",
    "#### General architecture\n",
    "![](https://debuggercafe.com/wp-content/uploads/2020/07/dcgan_overall.png)\n",
    "\n",
    "#### GAN - training flow diagram\n",
    "![](https://encrypted-tbn0.gstatic.com/images?q=tbn:ANd9GcSyjw6YraXZ97UFzpMkeqkTc7eWSCN4MM57HBG4mQgNkXBmGpNtxbcwYfCA1qeKMuYaoFQ&usqp=CAU)"
   ]
  },
  {
   "cell_type": "markdown",
   "id": "5a75a2f9-db8c-4acd-a50f-cc28d8ee8145",
   "metadata": {},
   "source": [
    "### Importing Modules"
   ]
  },
  {
   "cell_type": "code",
   "execution_count": 2,
   "id": "61a6d725-97dd-4a31-a952-c150efc30285",
   "metadata": {
    "_cell_guid": "b1076dfc-b9ad-4769-8c92-a6c4dae69d19",
    "_uuid": "8f2839f25d086af736a60e9eeb907d3b93b6e0e5"
   },
   "outputs": [],
   "source": [
    "import matplotlib.pyplot as plt\n",
    "\n",
    "import sys\n",
    "import os\n",
    "\n",
    "import numpy as np\n",
    "\n",
    "from PIL import Image, ImageSequence\n",
    "import cv2\n",
    "\n",
    "from matplotlib.pyplot import imshow\n",
    "\n",
    "from glob import glob\n",
    "from matplotlib import pyplot\n",
    "from sklearn.utils import shuffle\n",
    "import tensorflow as tf\n",
    "from tensorflow.keras.layers import *\n",
    "from tensorflow.keras.models import Model, load_model\n",
    "from tensorflow.keras.optimizers import Adam\n",
    "\n",
    "from ipywidgets import interact\n",
    "import ipywidgets as widgets"
   ]
  },
  {
   "cell_type": "markdown",
   "id": "98c0395e-e575-4d75-b6b9-7f711bf88525",
   "metadata": {
    "tags": []
   },
   "source": [
    "## Dataset\n",
    "``` latex\n",
    "    Anime Faces\n",
    "    - 25663 images\n",
    "    - 128 x 128 \n",
    "```"
   ]
  },
  {
   "cell_type": "code",
   "execution_count": 3,
   "id": "e6f10364-3847-4286-ac05-f83a17b7adca",
   "metadata": {
    "tags": []
   },
   "outputs": [
    {
     "ename": "KeyboardInterrupt",
     "evalue": "",
     "output_type": "error",
     "traceback": [
      "\u001b[1;31m---------------------------------------------------------------------------\u001b[0m",
      "\u001b[1;31mKeyboardInterrupt\u001b[0m                         Traceback (most recent call last)",
      "\u001b[1;32m~\\AppData\\Local\\Temp/ipykernel_23688/3890062998.py\u001b[0m in \u001b[0;36m<module>\u001b[1;34m\u001b[0m\n\u001b[0;32m     28\u001b[0m     \u001b[1;32mreturn\u001b[0m \u001b[0mnp\u001b[0m\u001b[1;33m.\u001b[0m\u001b[0marray\u001b[0m\u001b[1;33m(\u001b[0m\u001b[0mimages\u001b[0m\u001b[1;33m)\u001b[0m\u001b[1;33m\u001b[0m\u001b[1;33m\u001b[0m\u001b[0m\n\u001b[0;32m     29\u001b[0m \u001b[1;33m\u001b[0m\u001b[0m\n\u001b[1;32m---> 30\u001b[1;33m \u001b[0mimages\u001b[0m \u001b[1;33m=\u001b[0m \u001b[0mloadImages\u001b[0m\u001b[1;33m(\u001b[0m\u001b[0msize\u001b[0m\u001b[1;33m=\u001b[0m\u001b[1;33m(\u001b[0m\u001b[1;36m128\u001b[0m\u001b[1;33m,\u001b[0m \u001b[1;36m128\u001b[0m\u001b[1;33m)\u001b[0m\u001b[1;33m)\u001b[0m\u001b[1;33m\u001b[0m\u001b[1;33m\u001b[0m\u001b[0m\n\u001b[0m\u001b[0;32m     31\u001b[0m \u001b[1;33m\u001b[0m\u001b[0m\n\u001b[0;32m     32\u001b[0m \u001b[1;32mdef\u001b[0m \u001b[0mdisplayImages\u001b[0m\u001b[1;33m(\u001b[0m\u001b[0moffset\u001b[0m \u001b[1;33m=\u001b[0m \u001b[1;36m0\u001b[0m\u001b[1;33m)\u001b[0m\u001b[1;33m:\u001b[0m\u001b[1;33m\u001b[0m\u001b[1;33m\u001b[0m\u001b[0m\n",
      "\u001b[1;32m~\\AppData\\Local\\Temp/ipykernel_23688/3890062998.py\u001b[0m in \u001b[0;36mloadImages\u001b[1;34m(directory, size)\u001b[0m\n\u001b[0;32m     21\u001b[0m         \u001b[0mpath\u001b[0m \u001b[1;33m=\u001b[0m \u001b[0mpath\u001b[0m\u001b[1;33m.\u001b[0m\u001b[0mreplace\u001b[0m\u001b[1;33m(\u001b[0m\u001b[1;34m\"\\\\\"\u001b[0m\u001b[1;33m,\u001b[0m \u001b[1;34m\"/\"\u001b[0m\u001b[1;33m)\u001b[0m\u001b[1;33m\u001b[0m\u001b[1;33m\u001b[0m\u001b[0m\n\u001b[0;32m     22\u001b[0m \u001b[1;33m\u001b[0m\u001b[0m\n\u001b[1;32m---> 23\u001b[1;33m         \u001b[0mimage\u001b[0m \u001b[1;33m=\u001b[0m \u001b[0mcv2\u001b[0m\u001b[1;33m.\u001b[0m\u001b[0mimread\u001b[0m\u001b[1;33m(\u001b[0m\u001b[0mpath\u001b[0m\u001b[1;33m)\u001b[0m\u001b[1;33m\u001b[0m\u001b[1;33m\u001b[0m\u001b[0m\n\u001b[0m\u001b[0;32m     24\u001b[0m         \u001b[0mimage\u001b[0m \u001b[1;33m=\u001b[0m \u001b[0mcv2\u001b[0m\u001b[1;33m.\u001b[0m\u001b[0mresize\u001b[0m\u001b[1;33m(\u001b[0m\u001b[0mimage\u001b[0m\u001b[1;33m,\u001b[0m \u001b[0msize\u001b[0m\u001b[1;33m)\u001b[0m\u001b[1;33m\u001b[0m\u001b[1;33m\u001b[0m\u001b[0m\n\u001b[0;32m     25\u001b[0m \u001b[1;33m\u001b[0m\u001b[0m\n",
      "\u001b[1;31mKeyboardInterrupt\u001b[0m: "
     ]
    }
   ],
   "source": [
    "def loadImages(directory=\"../dataset\", size=(64, 64)):\n",
    "    \"\"\"\n",
    "        Loads the images from the directory\n",
    "            \n",
    "        Paramters:\n",
    "            * directory : The dataset directory\n",
    "                - Default directory : ./dataset\n",
    "            * size : The size of the images imported\n",
    "                - Default size      : 64 x 64\n",
    "        \n",
    "        Return:\n",
    "            image: list of (array of) images loaded from directory\n",
    "        \n",
    "    \"\"\"\n",
    "    images = list()\n",
    "    \n",
    "    root = list(os.walk(directory))[0][0]\n",
    "    imagePaths = list(map(lambda x: os.path.join(root, x), list(os.walk(directory))[0][2]))\n",
    "    \n",
    "    for path in imagePaths:\n",
    "        path = path.replace(\"\\\\\", \"/\")\n",
    "        \n",
    "        image = cv2.imread(path)\n",
    "        image = cv2.resize(image, size)\n",
    "        \n",
    "        images.append((cv2.cvtColor(image, cv2.COLOR_BGR2RGB)-127.5) / 127.5)\n",
    "        \n",
    "    return np.array(images)\n",
    "\n",
    "images = loadImages(size=(128, 128))\n",
    "\n",
    "def displayImages(offset = 0):\n",
    "    \"\"\"\n",
    "        Displays the images from the images list using matplotlib.pyplot function imshow\n",
    "        \n",
    "        Parameter:\n",
    "            * offset : A number between 0 to 25632 to set the select of 25 images to be displayed\n",
    "                - Default offset : 0\n",
    "    \"\"\"\n",
    "    dim=(5, 5)\n",
    "    _, ax = plt.subplots(dim[0], dim[1], figsize = (10, 10))\n",
    "\n",
    "    for i in range(dim[0]):\n",
    "        for j in range(dim[1]):\n",
    "            ax[i, j].imshow(images[offset+5*i+j]*0.5 + 0.5)\n",
    "            ax[i, j].axis('off')\n",
    "            \n",
    "interact(displayImages, offset=widgets.IntSlider(value=0, min=0, max=25632, step=1))"
   ]
  },
  {
   "cell_type": "markdown",
   "id": "17fda893-7fab-4972-87bf-ef4ecbfe6ff7",
   "metadata": {},
   "source": [
    "![](../output.gif)"
   ]
  },
  {
   "cell_type": "code",
   "execution_count": null,
   "id": "9c93166d-164c-4f71-a0ac-a8751f53947a",
   "metadata": {},
   "outputs": [],
   "source": []
  },
  {
   "cell_type": "code",
   "execution_count": null,
   "id": "8f9c003d-9f53-413e-83b2-a8364abc085e",
   "metadata": {},
   "outputs": [],
   "source": []
  }
 ],
 "metadata": {
  "kernelspec": {
   "display_name": "Python 3 (ipykernel)",
   "language": "python",
   "name": "python3"
  },
  "language_info": {
   "codemirror_mode": {
    "name": "ipython",
    "version": 3
   },
   "file_extension": ".py",
   "mimetype": "text/x-python",
   "name": "python",
   "nbconvert_exporter": "python",
   "pygments_lexer": "ipython3",
   "version": "3.10.2"
  }
 },
 "nbformat": 4,
 "nbformat_minor": 5
}
